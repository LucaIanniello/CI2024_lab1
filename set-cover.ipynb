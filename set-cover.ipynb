{
 "cells": [
  {
   "cell_type": "markdown",
   "metadata": {},
   "source": [
    "Copyright **`(c)`** 2024 Giovanni Squillero `<giovanni.squillero@polito.it>`  \n",
    "[`https://github.com/squillero/computational-intelligence`](https://github.com/squillero/computational-intelligence)  \n",
    "Free for personal or classroom use; see [`LICENSE.md`](https://github.com/squillero/computational-intelligence/blob/master/LICENSE.md) for details.  "
   ]
  },
  {
   "cell_type": "markdown",
   "metadata": {},
   "source": [
    "# Set Cover problem\n",
    "\n",
    "See: https://en.wikipedia.org/wiki/Set_cover_problem"
   ]
  },
  {
   "cell_type": "code",
   "execution_count": 73,
   "metadata": {},
   "outputs": [],
   "source": [
    "from random import random, seed\n",
    "from itertools import product\n",
    "import numpy as np\n",
    "\n",
    "from icecream import ic"
   ]
  },
  {
   "cell_type": "markdown",
   "metadata": {},
   "source": [
    "## Reproducible Initialization\n",
    "\n",
    "If you want to get reproducible results, use `rng` (and restart the kernel); for non-reproducible ones, use `np.random`."
   ]
  },
  {
   "cell_type": "code",
   "execution_count": 74,
   "metadata": {},
   "outputs": [],
   "source": [
    "UNIVERSE_SIZE = 1000\n",
    "NUM_SETS = 100\n",
    "DENSITY = 0.2\n",
    "\n",
    "rng = np.random.Generator(np.random.PCG64([UNIVERSE_SIZE, NUM_SETS, int(10_000 * DENSITY)]))"
   ]
  },
  {
   "cell_type": "code",
   "execution_count": 75,
   "metadata": {},
   "outputs": [],
   "source": [
    "# DON'T EDIT THESE LINES!\n",
    "\n",
    "SETS = np.random.random((NUM_SETS, UNIVERSE_SIZE)) < DENSITY\n",
    "for s in range(UNIVERSE_SIZE):\n",
    "    if not np.any(SETS[:, s]):\n",
    "        SETS[np.random.randint(NUM_SETS), s] = True\n",
    "COSTS = np.power(SETS.sum(axis=1), 1.1)"
   ]
  },
  {
   "cell_type": "markdown",
   "metadata": {},
   "source": [
    "## Helper Functions"
   ]
  },
  {
   "cell_type": "code",
   "execution_count": 76,
   "metadata": {},
   "outputs": [],
   "source": [
    "def valid(solution):\n",
    "    \"\"\"Checks wether solution is valid (ie. covers all universe)\"\"\"\n",
    "    return np.all(np.logical_or.reduce(SETS[solution]))\n",
    "\n",
    "\n",
    "def cost(solution):\n",
    "    \"\"\"Returns the cost of a solution (to be minimized)\"\"\"\n",
    "    return COSTS[solution].sum()"
   ]
  },
  {
   "cell_type": "markdown",
   "metadata": {},
   "source": [
    "## Have Fun!"
   ]
  },
  {
   "cell_type": "code",
   "execution_count": 77,
   "metadata": {},
   "outputs": [
    {
     "data": {
      "text/plain": [
       "(np.True_, np.float64(33635.922665122314))"
      ]
     },
     "execution_count": 77,
     "metadata": {},
     "output_type": "execute_result"
    }
   ],
   "source": [
    "# A dumb solution of \"all\" sets\n",
    "solution = np.full(NUM_SETS, True)\n",
    "valid(solution), cost(solution)"
   ]
  },
  {
   "cell_type": "code",
   "execution_count": 78,
   "metadata": {},
   "outputs": [
    {
     "data": {
      "text/plain": [
       "(np.True_, np.float64(15859.594977250465))"
      ]
     },
     "execution_count": 78,
     "metadata": {},
     "output_type": "execute_result"
    }
   ],
   "source": [
    "# A random solution with random 50% of the sets\n",
    "solution = rng.random(NUM_SETS) < .5\n",
    "valid(solution), cost(solution)"
   ]
  },
  {
   "cell_type": "markdown",
   "metadata": {},
   "source": [
    "My Solutions"
   ]
  },
  {
   "cell_type": "markdown",
   "metadata": {},
   "source": [
    "The first following solution is structured in two parts:\n",
    "1) Find the set that has the largest amout of elements\n",
    "2) Iterate over the other sets and include in the min_set list all the sets that cover a missing element of the previous min_set sets."
   ]
  },
  {
   "cell_type": "code",
   "execution_count": 79,
   "metadata": {},
   "outputs": [
    {
     "name": "stdout",
     "output_type": "stream",
     "text": [
      "Number of elements in min_sets: 25\n",
      "Indices of the set taken and order: [26, 1, 2, 5, 12, 14, 6, 7, 3, 10, 8, 16, 15, 13, 19, 11, 0, 4, 9, 23, 27, 25, 17, 18, 34]\n",
      "Is the solution valid? True\n",
      "Cost of the solution: 8430.521054319439\n"
     ]
    }
   ],
   "source": [
    "min_sets=[]\n",
    "not_covered = np.ones(UNIVERSE_SIZE, dtype=bool)\n",
    "\n",
    "# Search for the set with the highest number of elements\n",
    "best_set = None\n",
    "best_set_covered = set()\n",
    "\n",
    "for i in range(len(SETS)):\n",
    "    covered_by_set = np.where(SETS[i] & not_covered)[0]\n",
    "    if len(covered_by_set) > len(best_set_covered):\n",
    "        best_set = i\n",
    "        best_set_covered = covered_by_set\n",
    "\n",
    "min_sets.append(best_set)\n",
    "not_covered[best_set_covered] = False\n",
    "\n",
    "# Add new sets that have some value of the not covered\n",
    "while np.any(not_covered):\n",
    "    for elem in np.where(not_covered)[0]:\n",
    "        found = False\n",
    "        for i in range(len(SETS)):\n",
    "            if i in min_sets:\n",
    "                continue\n",
    "            if SETS[i][elem]:\n",
    "                min_sets.append(i)\n",
    "                not_covered[np.where(SETS[i])[0]] = False\n",
    "                found = True\n",
    "                break\n",
    "        if found:\n",
    "            break\n",
    "        \n",
    "print(\"Number of elements in min_sets:\", len(min_sets))\n",
    "print(\"Indices of the set taken and order:\", min_sets)\n",
    "print(\"Is the solution valid?\", valid(min_sets))\n",
    "print(\"Cost of the solution:\", cost(min_sets))\n"
   ]
  },
  {
   "cell_type": "markdown",
   "metadata": {},
   "source": [
    "The second following solution takes only the sets with the greatest amout of elements until all elements are taken."
   ]
  },
  {
   "cell_type": "code",
   "execution_count": 80,
   "metadata": {},
   "outputs": [
    {
     "name": "stdout",
     "output_type": "stream",
     "text": [
      "Number of elements in min_sets: 18\n",
      "Indices of the set taken and order: [26, 68, 17, 69, 4, 3, 54, 11, 58, 52, 7, 31, 82, 99, 33, 89, 42, 2]\n",
      "Is the solution valid? True\n",
      "Cost of the solution: 6231.286338305842\n"
     ]
    }
   ],
   "source": [
    "# Greedy initial solution\n",
    "min_sets = []\n",
    "not_covered = np.ones(UNIVERSE_SIZE, dtype=bool)\n",
    "\n",
    "while np.any(not_covered):\n",
    "    best_set = None\n",
    "    max_covered = 0\n",
    "    for i in range(len(SETS)):\n",
    "        if i in min_sets:\n",
    "            continue\n",
    "        covered_by_set = np.where(SETS[i] & not_covered)[0]\n",
    "        if len(covered_by_set) > max_covered:\n",
    "            best_set = i\n",
    "            max_covered = len(covered_by_set)\n",
    "    if best_set is not None:\n",
    "        min_sets.append(best_set)\n",
    "        not_covered[np.where(SETS[best_set])[0]] = False\n",
    "\n",
    "print(\"Number of elements in min_sets:\", len(min_sets))\n",
    "print(\"Indices of the set taken and order:\", min_sets)\n",
    "print(\"Is the solution valid?\", valid(min_sets))\n",
    "print(\"Cost of the solution:\", cost(min_sets))\n"
   ]
  },
  {
   "cell_type": "markdown",
   "metadata": {},
   "source": [
    "This last solution is a ibrid version of teh previous two. In this case I take firstly the set with the largest number of elements and then I take the largest sets that cover all not_covered elements."
   ]
  },
  {
   "cell_type": "code",
   "execution_count": 81,
   "metadata": {},
   "outputs": [
    {
     "name": "stdout",
     "output_type": "stream",
     "text": [
      "Number of elements in min_sets: 18\n",
      "Indices of the set taken and order: [26, 91, 95, 86, 24, 51, 17, 40, 69, 63, 28, 74, 2, 83, 21, 16, 72, 62]\n",
      "Is the solution valid? True\n",
      "Cost of the solution: 6170.066480370011\n"
     ]
    }
   ],
   "source": [
    "min_sets = []\n",
    "not_covered = np.ones(UNIVERSE_SIZE, dtype=bool)\n",
    "\n",
    "# Step 1: Select the set with the largest number of elements\n",
    "best_set = None\n",
    "best_set_covered = set()\n",
    "\n",
    "for i in range(len(SETS)):\n",
    "    covered_by_set = np.where(SETS[i] & not_covered)[0]\n",
    "    if len(covered_by_set) > len(best_set_covered):\n",
    "        best_set = i\n",
    "        best_set_covered = covered_by_set\n",
    "\n",
    "min_sets.append(best_set)\n",
    "not_covered[best_set_covered] = False\n",
    "\n",
    "# Step 2: For each uncovered element, find the largest set that contains that element\n",
    "while np.any(not_covered):\n",
    "    for elem in np.where(not_covered)[0]:\n",
    "        best_set = None\n",
    "        best_set_covered = set()\n",
    "        for i in range(len(SETS)):\n",
    "            if i in min_sets:\n",
    "                continue\n",
    "            if SETS[i][elem]:\n",
    "                covered_by_set = np.where(SETS[i] & not_covered)[0]\n",
    "                if len(covered_by_set) > len(best_set_covered):\n",
    "                    best_set = i\n",
    "                    best_set_covered = covered_by_set\n",
    "        if best_set is not None:\n",
    "            min_sets.append(best_set)\n",
    "            not_covered[np.where(SETS[best_set])[0]] = False\n",
    "\n",
    "print(\"Number of elements in min_sets:\", len(min_sets))\n",
    "print(\"Indices of the set taken and order:\", min_sets)\n",
    "print(\"Is the solution valid?\", valid(min_sets))\n",
    "print(\"Cost of the solution:\", cost(min_sets))"
   ]
  },
  {
   "cell_type": "markdown",
   "metadata": {},
   "source": [
    "After some tries, we can see that some the last and the second solutions have better result in comparison with the first one. "
   ]
  }
 ],
 "metadata": {
  "kernelspec": {
   "display_name": "Python 3 (ipykernel)",
   "language": "python",
   "name": "python3"
  },
  "language_info": {
   "codemirror_mode": {
    "name": "ipython",
    "version": 3
   },
   "file_extension": ".py",
   "mimetype": "text/x-python",
   "name": "python",
   "nbconvert_exporter": "python",
   "pygments_lexer": "ipython3",
   "version": "3.12.6"
  }
 },
 "nbformat": 4,
 "nbformat_minor": 4
}
