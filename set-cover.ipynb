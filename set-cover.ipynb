{
 "cells": [
  {
   "cell_type": "markdown",
   "metadata": {},
   "source": [
    "Copyright **`(c)`** 2024 Giovanni Squillero `<giovanni.squillero@polito.it>`  \n",
    "[`https://github.com/squillero/computational-intelligence`](https://github.com/squillero/computational-intelligence)  \n",
    "Free for personal or classroom use; see [`LICENSE.md`](https://github.com/squillero/computational-intelligence/blob/master/LICENSE.md) for details.  "
   ]
  },
  {
   "cell_type": "markdown",
   "metadata": {},
   "source": [
    "# Set Cover problem\n",
    "\n",
    "See: https://en.wikipedia.org/wiki/Set_cover_problem"
   ]
  },
  {
   "cell_type": "code",
   "execution_count": 90,
   "metadata": {},
   "outputs": [],
   "source": [
    "from random import random, seed\n",
    "from itertools import product\n",
    "import numpy as np\n",
    "\n",
    "from icecream import ic"
   ]
  },
  {
   "cell_type": "markdown",
   "metadata": {},
   "source": [
    "## Reproducible Initialization\n",
    "\n",
    "If you want to get reproducible results, use `rng` (and restart the kernel); for non-reproducible ones, use `np.random`."
   ]
  },
  {
   "cell_type": "code",
   "execution_count": 91,
   "metadata": {},
   "outputs": [],
   "source": [
    "UNIVERSE_SIZE = 1000\n",
    "NUM_SETS = 100\n",
    "DENSITY = 0.2\n",
    "\n",
    "rng = np.random.Generator(np.random.PCG64([UNIVERSE_SIZE, NUM_SETS, int(10_000 * DENSITY)]))"
   ]
  },
  {
   "cell_type": "code",
   "execution_count": 92,
   "metadata": {},
   "outputs": [],
   "source": [
    "# DON'T EDIT THESE LINES!\n",
    "\n",
    "SETS = np.random.random((NUM_SETS, UNIVERSE_SIZE)) < DENSITY\n",
    "for s in range(UNIVERSE_SIZE):\n",
    "    if not np.any(SETS[:, s]):\n",
    "        SETS[np.random.randint(NUM_SETS), s] = True\n",
    "COSTS = np.power(SETS.sum(axis=1), 1.1)"
   ]
  },
  {
   "cell_type": "markdown",
   "metadata": {},
   "source": [
    "## Helper Functions"
   ]
  },
  {
   "cell_type": "code",
   "execution_count": 107,
   "metadata": {},
   "outputs": [],
   "source": [
    "def valid(solution):\n",
    "    \"\"\"Checks wether solution is valid (ie. covers all universe)\"\"\"\n",
    "    return np.all(np.logical_or.reduce(SETS[solution]))\n",
    "\n",
    "\n",
    "def cost(solution):\n",
    "    \"\"\"Returns the cost of a solution (to be minimized)\"\"\"\n",
    "    return COSTS[solution].sum()"
   ]
  },
  {
   "cell_type": "markdown",
   "metadata": {},
   "source": [
    "## Have Fun!"
   ]
  },
  {
   "cell_type": "code",
   "execution_count": 103,
   "metadata": {},
   "outputs": [
    {
     "ename": "TypeError",
     "evalue": "'numpy.bool' object is not callable",
     "output_type": "error",
     "traceback": [
      "\u001b[1;31m---------------------------------------------------------------------------\u001b[0m",
      "\u001b[1;31mTypeError\u001b[0m                                 Traceback (most recent call last)",
      "Cell \u001b[1;32mIn[103], line 3\u001b[0m\n\u001b[0;32m      1\u001b[0m \u001b[38;5;66;03m# A dumb solution of \"all\" sets\u001b[39;00m\n\u001b[0;32m      2\u001b[0m solution \u001b[38;5;241m=\u001b[39m np\u001b[38;5;241m.\u001b[39mfull(NUM_SETS, \u001b[38;5;28;01mTrue\u001b[39;00m)\n\u001b[1;32m----> 3\u001b[0m \u001b[43mvalid\u001b[49m\u001b[43m(\u001b[49m\u001b[43msolution\u001b[49m\u001b[43m)\u001b[49m, cost(solution)\n",
      "\u001b[1;31mTypeError\u001b[0m: 'numpy.bool' object is not callable"
     ]
    }
   ],
   "source": [
    "# A dumb solution of \"all\" sets\n",
    "solution = np.full(NUM_SETS, True)\n",
    "valid(solution), cost(solution)"
   ]
  },
  {
   "cell_type": "code",
   "execution_count": 102,
   "metadata": {},
   "outputs": [
    {
     "ename": "TypeError",
     "evalue": "'numpy.bool' object is not callable",
     "output_type": "error",
     "traceback": [
      "\u001b[1;31m---------------------------------------------------------------------------\u001b[0m",
      "\u001b[1;31mTypeError\u001b[0m                                 Traceback (most recent call last)",
      "Cell \u001b[1;32mIn[102], line 3\u001b[0m\n\u001b[0;32m      1\u001b[0m \u001b[38;5;66;03m# A random solution with random 50% of the sets\u001b[39;00m\n\u001b[0;32m      2\u001b[0m solution \u001b[38;5;241m=\u001b[39m rng\u001b[38;5;241m.\u001b[39mrandom(NUM_SETS) \u001b[38;5;241m<\u001b[39m \u001b[38;5;241m.5\u001b[39m\n\u001b[1;32m----> 3\u001b[0m \u001b[43mvalid\u001b[49m\u001b[43m(\u001b[49m\u001b[43msolution\u001b[49m\u001b[43m)\u001b[49m, cost(solution)\n",
      "\u001b[1;31mTypeError\u001b[0m: 'numpy.bool' object is not callable"
     ]
    }
   ],
   "source": [
    "# A random solution with random 50% of the sets\n",
    "solution = rng.random(NUM_SETS) < .5\n",
    "valid(solution), cost(solution)"
   ]
  },
  {
   "cell_type": "markdown",
   "metadata": {},
   "source": [
    "My Solutions"
   ]
  },
  {
   "cell_type": "markdown",
   "metadata": {},
   "source": [
    "The following solution is structured in two parts:\n",
    "1) Find the set that has the largest amout of elements\n",
    "2) Iterate over the other sets and include in the min_set list all the sets that cover a missing element of the previous min_set sets."
   ]
  },
  {
   "cell_type": "code",
   "execution_count": 108,
   "metadata": {},
   "outputs": [
    {
     "name": "stdout",
     "output_type": "stream",
     "text": [
      "Number of elements in min_sets: 26\n",
      "Indices of the set taken and order: [39, 5, 3, 1, 0, 9, 8, 14, 10, 19, 2, 6, 7, 4, 25, 13, 12, 33, 21, 11, 24, 15, 18, 28, 20, 22]\n",
      "Selected sets: [3, 1, 9, 8, 14, 10, 19, 2, 6, 4, 25, 13, 12, 33, 21, 11, 24, 15, 18, 28, 20, 22]\n",
      "Number of selected sets: 22\n",
      "Cost of selected sets: 7464.14231914046\n",
      "Is the solution valid? True\n"
     ]
    }
   ],
   "source": [
    "min_sets=[]\n",
    "not_covered = np.ones(UNIVERSE_SIZE, dtype=bool)\n",
    "\n",
    "# Search for the set with the highest number of elements\n",
    "best_set = None\n",
    "best_set_covered = set()\n",
    "\n",
    "for i in range(len(SETS)):\n",
    "    covered_by_set = np.where(SETS[i] & not_covered)[0]\n",
    "    if len(covered_by_set) > len(best_set_covered):\n",
    "        best_set = i\n",
    "        best_set_covered = covered_by_set\n",
    "\n",
    "min_sets.append(best_set)\n",
    "not_covered[best_set_covered] = False\n",
    "\n",
    "# Add new sets that have some value of the not covered\n",
    "while np.any(not_covered):\n",
    "    for elem in np.where(not_covered)[0]:\n",
    "        found = False\n",
    "        for i in range(len(SETS)):\n",
    "            if i in min_sets:\n",
    "                continue\n",
    "            if SETS[i][elem]:\n",
    "                min_sets.append(i)\n",
    "                not_covered[np.where(SETS[i])[0]] = False\n",
    "                found = True\n",
    "                break\n",
    "        if found:\n",
    "            break\n",
    "        \n",
    "print(\"Number of elements in min_sets:\",len(min_sets))\n",
    "print(\"Indices of the set taken and order:\", min_sets)\n",
    "valid(min_sets),cost(min_sets)\n"
   ]
  }
 ],
 "metadata": {
  "kernelspec": {
   "display_name": "Python 3 (ipykernel)",
   "language": "python",
   "name": "python3"
  },
  "language_info": {
   "codemirror_mode": {
    "name": "ipython",
    "version": 3
   },
   "file_extension": ".py",
   "mimetype": "text/x-python",
   "name": "python",
   "nbconvert_exporter": "python",
   "pygments_lexer": "ipython3",
   "version": "3.12.6"
  }
 },
 "nbformat": 4,
 "nbformat_minor": 4
}
